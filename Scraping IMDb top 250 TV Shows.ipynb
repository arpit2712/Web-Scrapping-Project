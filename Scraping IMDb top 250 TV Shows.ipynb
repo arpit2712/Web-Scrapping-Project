{
 "cells": [
  {
   "cell_type": "code",
   "execution_count": null,
   "id": "7de88d38",
   "metadata": {},
   "outputs": [],
   "source": [
    "import bs4\n",
    "import requests"
   ]
  },
  {
   "cell_type": "code",
   "execution_count": null,
   "id": "d0f62514",
   "metadata": {},
   "outputs": [],
   "source": [
    "url=\"https://www.imdb.com/chart/toptv/?ref_=nv_tvv_250\""
   ]
  },
  {
   "cell_type": "code",
   "execution_count": null,
   "id": "1f015676",
   "metadata": {},
   "outputs": [],
   "source": [
    "res=requests.get(url)\n",
    "print(res)"
   ]
  },
  {
   "cell_type": "code",
   "execution_count": null,
   "id": "dda9f84f",
   "metadata": {},
   "outputs": [],
   "source": [
    "imdb=bs4.BeautifulSoup(res.content,\"html.parser\")\n",
    "print(imdb.prettify())"
   ]
  },
  {
   "cell_type": "code",
   "execution_count": null,
   "id": "c73ce433",
   "metadata": {},
   "outputs": [],
   "source": [
    "TS=imdb.find(\"td\",attrs={\"class\":\"titleColumn\"})\n",
    "print(TS)"
   ]
  },
  {
   "cell_type": "code",
   "execution_count": null,
   "id": "4953a5d5",
   "metadata": {},
   "outputs": [],
   "source": [
    "print(TS.a)\n",
    "print(TS.span)"
   ]
  },
  {
   "cell_type": "code",
   "execution_count": null,
   "id": "d79be83b",
   "metadata": {},
   "outputs": [],
   "source": [
    "print(TS.a.text)"
   ]
  },
  {
   "cell_type": "code",
   "execution_count": null,
   "id": "65f31ec3",
   "metadata": {},
   "outputs": [],
   "source": [
    "TVShowName=TS.a.get(\"title\")\n",
    "print(TVShowName)\n",
    "ShowLink=TS.a.get(\"href\")\n",
    "print(ShowLink)"
   ]
  },
  {
   "cell_type": "code",
   "execution_count": null,
   "id": "576f3989",
   "metadata": {},
   "outputs": [],
   "source": [
    "ShowYear=TS.span.text\n",
    "print(ShowYear)"
   ]
  },
  {
   "cell_type": "code",
   "execution_count": null,
   "id": "c35ef1fe",
   "metadata": {},
   "outputs": [],
   "source": [
    "print(TS)\n",
    "print(TS.text)\n",
    "type(TS.text)"
   ]
  },
  {
   "cell_type": "code",
   "execution_count": null,
   "id": "055a0f16",
   "metadata": {},
   "outputs": [],
   "source": [
    "print(TS.text)\n",
    "print(\"_____________________________\")\n",
    "print(TS.text.strip())\n",
    "print(type(TS.text.strip()))"
   ]
  },
  {
   "cell_type": "code",
   "execution_count": null,
   "id": "2e3431db",
   "metadata": {},
   "outputs": [],
   "source": [
    "print(TS.text.strip()[:3])"
   ]
  },
  {
   "cell_type": "code",
   "execution_count": null,
   "id": "e1f99f5e",
   "metadata": {},
   "outputs": [],
   "source": [
    "ImdbRating=imdb.find(\"td\",attrs={\"class\":\"ratingColumn imdbRating\"})\n",
    "print(ImdbRating)\n",
    "print(ImdbRating.strong.text)\n",
    "print(ImdbRating.strong.get(\"title\"))"
   ]
  },
  {
   "cell_type": "code",
   "execution_count": null,
   "id": "f01fec4a",
   "metadata": {},
   "outputs": [],
   "source": [
    "NoOfUsers=ImdbRating.strong.get(\"title\")[13:22]\n",
    "NoOfUsers"
   ]
  },
  {
   "cell_type": "code",
   "execution_count": null,
   "id": "1295865d",
   "metadata": {},
   "outputs": [],
   "source": [
    "title=[]\n",
    "Ranks=[]\n",
    "Name=[]\n",
    "Year=[]\n",
    "\n",
    "for i in imdb.find_all(\"td\",attrs={\"class\":\"titleColumn\"}):\n",
    "    title.append(i.a.text)\n",
    "    \n",
    "    Ranks.append(i.text.strip()[:3])\n",
    "    Name.append(i.a.get(\"title\"))\n",
    "    Year.append(i.span.text)\n",
    "    "
   ]
  },
  {
   "cell_type": "code",
   "execution_count": null,
   "id": "8681485a",
   "metadata": {},
   "outputs": [],
   "source": [
    "print(len(title))\n",
    "print(len(Ranks))\n",
    "print(len(Name))\n",
    "print(len(Year))"
   ]
  },
  {
   "cell_type": "code",
   "execution_count": null,
   "id": "931474ea",
   "metadata": {},
   "outputs": [],
   "source": [
    "rating=[]\n",
    "UserRated=[]\n",
    "for i in imdb.find_all(\"td\",{\"class\":\"ratingColumn imdbRating\"}):\n",
    "    rating.append(i.strong.text)\n",
    "    UserRated.append(i.strong.get(\"title\")[13:22])"
   ]
  },
  {
   "cell_type": "code",
   "execution_count": null,
   "id": "ad17177b",
   "metadata": {},
   "outputs": [],
   "source": [
    "print(len(rating))\n",
    "print(len(UserRated))"
   ]
  },
  {
   "cell_type": "code",
   "execution_count": null,
   "id": "bc5c0263",
   "metadata": {},
   "outputs": [],
   "source": [
    "import pandas as pd"
   ]
  },
  {
   "cell_type": "code",
   "execution_count": null,
   "id": "ce976730",
   "metadata": {},
   "outputs": [],
   "source": [
    "ImdbTop250Movies=pd.DataFrame({\"Title\":title,\"Year\":Year,\"Rank\":Ranks,\"ActorName\":Name,\"Rating\":rating,\"UserVoted\":UserRated})\n",
    "ImdbTop250Movies"
   ]
  },
  {
   "cell_type": "code",
   "execution_count": null,
   "id": "d23b5b6e",
   "metadata": {},
   "outputs": [],
   "source": [
    "ImdbTop250Movies.shape"
   ]
  },
  {
   "cell_type": "code",
   "execution_count": null,
   "id": "d8058678",
   "metadata": {},
   "outputs": [],
   "source": [
    "ImdbTop250Movies[\"Rank\"]=ImdbTop250Movies[\"Rank\"].str.replace(\".\\n\",\"\",regex=True)\n",
    "ImdbTop250Movies"
   ]
  },
  {
   "cell_type": "code",
   "execution_count": null,
   "id": "e428e7c9",
   "metadata": {},
   "outputs": [],
   "source": [
    "ImdbTop250Movies[\"UserVoted\"]=ImdbTop250Movies[\"UserVoted\"].str.replace(\",\",\"\")\n",
    "ImdbTop250Movies"
   ]
  },
  {
   "cell_type": "code",
   "execution_count": null,
   "id": "deca54a7",
   "metadata": {},
   "outputs": [],
   "source": [
    "ImdbTop250Movies[\"UserVoted\"]=ImdbTop250Movies[\"UserVoted\"].str.replace(\"us\",\"\").str.replace(\"u\",\"\")\n",
    "ImdbTop250Movies"
   ]
  },
  {
   "cell_type": "code",
   "execution_count": null,
   "id": "9f022e64",
   "metadata": {},
   "outputs": [],
   "source": [
    "ImdbTop250Movies[\"Year\"]=ImdbTop250Movies[\"Year\"].str.replace(\"(\",\"\").str.replace(\")\",\"\",regex=True)\n",
    "ImdbTop250Movies"
   ]
  },
  {
   "cell_type": "code",
   "execution_count": null,
   "id": "b88ea48f",
   "metadata": {},
   "outputs": [],
   "source": [
    "ImdbTop250Movies.to_csv(\"IMDbTop250Movies.csv\",index=False)\n",
    "#ImdbTop250Movies.to_excel(\"IMDbTop250Movies.xslx\",index=False)"
   ]
  },
  {
   "cell_type": "code",
   "execution_count": null,
   "id": "fa25918e",
   "metadata": {},
   "outputs": [],
   "source": [
    "df=pd.read_csv(\"IMDbTop250Movies.csv\")\n",
    "#df=pd.read_excel(\"IMDbTop250Movies.xlsx\")"
   ]
  },
  {
   "cell_type": "code",
   "execution_count": null,
   "id": "f46f0d41",
   "metadata": {},
   "outputs": [],
   "source": [
    "df.head()"
   ]
  },
  {
   "cell_type": "code",
   "execution_count": null,
   "id": "8c17ea70",
   "metadata": {},
   "outputs": [],
   "source": [
    "df.dtypes"
   ]
  },
  {
   "cell_type": "code",
   "execution_count": null,
   "id": "ad52904d",
   "metadata": {},
   "outputs": [],
   "source": []
  }
 ],
 "metadata": {
  "kernelspec": {
   "display_name": "Python 3 (ipykernel)",
   "language": "python",
   "name": "python3"
  },
  "language_info": {
   "codemirror_mode": {
    "name": "ipython",
    "version": 3
   },
   "file_extension": ".py",
   "mimetype": "text/x-python",
   "name": "python",
   "nbconvert_exporter": "python",
   "pygments_lexer": "ipython3",
   "version": "3.9.13"
  }
 },
 "nbformat": 4,
 "nbformat_minor": 5
}
